{
 "cells": [
  {
   "cell_type": "markdown",
   "id": "898461e1",
   "metadata": {},
   "source": [
    "Importaciones"
   ]
  },
  {
   "cell_type": "code",
   "execution_count": null,
   "id": "6f83c2e9",
   "metadata": {},
   "outputs": [],
   "source": []
  },
  {
   "cell_type": "markdown",
   "id": "5bb3a14b",
   "metadata": {},
   "source": [
    "# Aplicación de filtros"
   ]
  },
  {
   "cell_type": "code",
   "execution_count": null,
   "id": "237826c0",
   "metadata": {},
   "outputs": [],
   "source": []
  },
  {
   "cell_type": "markdown",
   "id": "24b6e0bc",
   "metadata": {},
   "source": [
    "# Detección de bordes"
   ]
  },
  {
   "cell_type": "code",
   "execution_count": null,
   "id": "9cbeb397",
   "metadata": {},
   "outputs": [],
   "source": []
  }
 ],
 "metadata": {
  "language_info": {
   "name": "python"
  }
 },
 "nbformat": 4,
 "nbformat_minor": 5
}
