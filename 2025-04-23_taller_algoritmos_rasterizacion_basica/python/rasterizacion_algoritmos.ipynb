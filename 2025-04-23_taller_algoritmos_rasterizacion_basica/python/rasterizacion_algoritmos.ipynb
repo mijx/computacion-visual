{
 "cells": [
  {
   "cell_type": "markdown",
   "id": "18084ee7",
   "metadata": {},
   "source": [
    "Preparar el entorno de dibujo:"
   ]
  },
  {
   "cell_type": "code",
   "execution_count": 21,
   "id": "cd6e29b2",
   "metadata": {},
   "outputs": [],
   "source": [
    "from PIL import Image, ImageDraw\n",
    "import matplotlib.pyplot as plt\n",
    "\n",
    "width, height = 200, 200\n",
    "image = Image.new('RGB', (width, height), 'white')\n",
    "pixels = image.load()"
   ]
  },
  {
   "cell_type": "markdown",
   "id": "fbc952be",
   "metadata": {},
   "source": [
    "## Algoritmo de Bresenham\n",
    "Dibujar una línea."
   ]
  },
  {
   "cell_type": "code",
   "execution_count": 22,
   "id": "7c8de4a3",
   "metadata": {},
   "outputs": [],
   "source": [
    "def bresenham(x0, y0, x1, y1):\n",
    "    dx = abs(x1 - x0)\n",
    "    dy = abs(y1 - y0)\n",
    "    sx = 1 if x0 < x1 else -1\n",
    "    sy = 1 if y0 < y1 else -1\n",
    "    err = dx - dy\n",
    "\n",
    "    while True:\n",
    "        pixels[x0, y0] = (255, 0, 0)\n",
    "        if x0 == x1 and y0 == y1:\n",
    "            break\n",
    "        e2 = 2 * err\n",
    "        if e2 > -dy:\n",
    "            err -= dy\n",
    "            x0 += sx\n",
    "        if e2 < dx:\n",
    "            err += dx\n",
    "            y0 += sy\n"
   ]
  },
  {
   "cell_type": "code",
   "execution_count": 23,
   "id": "66967399",
   "metadata": {},
   "outputs": [
    {
     "data": {
      "image/png": "[encoded data removed]",
      "text/plain": [
       "<Figure size 640x480 with 1 Axes>"
      ]
     },
     "metadata": {},
     "output_type": "display_data"
    }
   ],
   "source": [
    "bresenham(20, 20, 180, 120)\n",
    "plt.imshow(image)\n",
    "plt.axis('off')\n",
    "plt.show()\n",
    "plt.show()\n",
    "image.save('../resultados/linea.png')\n"
   ]
  },
  {
   "cell_type": "markdown",
   "id": "a5baefe7",
   "metadata": {},
   "source": [
    "## Algoritmo de punto medio\n",
    "Dibujar un círculo."
   ]
  },
  {
   "cell_type": "code",
   "execution_count": 24,
   "id": "9c0dade8",
   "metadata": {},
   "outputs": [],
   "source": [
    "def midpoint_circle(x0, y0, radius):\n",
    "    x = radius\n",
    "    y = 0\n",
    "    p = 1 - radius\n",
    "\n",
    "    while x >= y:\n",
    "        for dx, dy in [(x, y), (y, x), (-x, y), (-y, x), (-x, -y), (-y, -x), (x, -y), (y, -x)]:\n",
    "            if 0 <= x0 + dx < width and 0 <= y0 + dy < height:\n",
    "                pixels[x0 + dx, y0 + dy] = (0, 0, 255)\n",
    "        y += 1\n",
    "        if p <= 0:\n",
    "            p = p + 2*y + 1\n",
    "        else:\n",
    "            x -= 1\n",
    "            p = p + 2*y - 2*x + 1\n"
   ]
  },
  {
   "cell_type": "code",
   "execution_count": 25,
   "id": "c79b5fe2",
   "metadata": {},
   "outputs": [
    {
     "data": {
      "image/png": "[encoded data removed]",
      "text/plain": [
       "<Figure size 640x480 with 1 Axes>"
      ]
     },
     "metadata": {},
     "output_type": "display_data"
    }
   ],
   "source": [
    "\n",
    "image = Image.new('RGB', (width, height), 'white')\n",
    "pixels = image.load()\n",
    "midpoint_circle(100, 100, 40)\n",
    "plt.imshow(image)\n",
    "plt.axis('off')\n",
    "plt.show()\n",
    "image.save('../resultados/circulo.png')"
   ]
  },
  {
   "cell_type": "markdown",
   "id": "887f26a1",
   "metadata": {},
   "source": [
    "## Rasterización por scanline\n",
    "Rellenar un triángulo."
   ]
  },
  {
   "cell_type": "code",
   "execution_count": 26,
   "id": "a5cda94c",
   "metadata": {},
   "outputs": [],
   "source": [
    "def fill_triangle(p1, p2, p3):\n",
    "    # ordenar por y\n",
    "    pts = sorted([p1, p2, p3], key=lambda p: p[1])\n",
    "    (x1, y1), (x2, y2), (x3, y3) = pts\n",
    "\n",
    "    def interpolate(y0, y1, x0, x1):\n",
    "        if y1 - y0 == 0: return []\n",
    "        return [int(x0 + (x1 - x0) * (y - y0) / (y1 - y0)) for y in range(y0, y1)]\n",
    "\n",
    "    x12 = interpolate(y1, y2, x1, x2)\n",
    "    x23 = interpolate(y2, y3, x2, x3)\n",
    "    x13 = interpolate(y1, y3, x1, x3)\n",
    "\n",
    "    x_left = x12 + x23\n",
    "    for y, xl, xr in zip(range(y1, y3), x13, x_left):\n",
    "        for x in range(min(xl, xr), max(xl, xr)):\n",
    "            if 0 <= x < width and 0 <= y < height:\n",
    "                pixels[x, y] = (0, 255, 0)\n"
   ]
  },
  {
   "cell_type": "code",
   "execution_count": 27,
   "id": "d9879f4f",
   "metadata": {},
   "outputs": [
    {
     "data": {
      "image/png": "[encoded data removed]",
      "text/plain": [
       "<Figure size 640x480 with 1 Axes>"
      ]
     },
     "metadata": {},
     "output_type": "display_data"
    }
   ],
   "source": [
    "image = Image.new('RGB', (width, height), 'white')\n",
    "pixels = image.load()\n",
    "fill_triangle((30, 50), (100, 150), (160, 60))\n",
    "plt.imshow(image)\n",
    "plt.axis('off')\n",
    "plt.show()\n",
    "image.save('../resultados/triangulo.png')"
   ]
  }
 ],
 "metadata": {
  "kernelspec": {
   "display_name": "Python 3",
   "language": "python",
   "name": "python3"
  },
  "language_info": {
   "codemirror_mode": {
    "name": "ipython",
    "version": 3
   },
   "file_extension": ".py",
   "mimetype": "text/x-python",
   "name": "python",
   "nbconvert_exporter": "python",
   "pygments_lexer": "ipython3",
   "version": "3.12.2"
  }
 },
 "nbformat": 4,
 "nbformat_minor": 5
}
